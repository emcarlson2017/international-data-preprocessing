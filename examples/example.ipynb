{
 "cells": [
  {
   "cell_type": "code",
   "execution_count": 11,
   "metadata": {
    "colab": {
     "base_uri": "https://localhost:8080/",
     "height": 322
    },
    "id": "JxaLh31h1Aca",
    "outputId": "56454c03-6a6b-46b8-dd61-f543863c8776"
   },
   "outputs": [
    {
     "name": "stdout",
     "output_type": "stream",
     "text": [
      "  originCountry destinationCountry  immigrantPopulation  year\n",
      "0         India      United States              2652853  2021\n",
      "1         China      United States              2221943  2021\n",
      "2        Brazil      United States               472637  2021\n",
      "3     Indonesia      United States                94079  2021\n"
     ]
    },
    {
     "ename": "AttributeError",
     "evalue": "module 'international_data_preprocessing' has no attribute 'international_data_preprocessing'",
     "output_type": "error",
     "traceback": [
      "\u001b[0;31m---------------------------------------------------------------------------\u001b[0m",
      "\u001b[0;31mAttributeError\u001b[0m                            Traceback (most recent call last)",
      "\u001b[0;32m/var/folders/hb/q2pbpx4569vf8cppghz7cg4h0000gn/T/ipykernel_39344/2696667957.py\u001b[0m in \u001b[0;36m<module>\u001b[0;34m\u001b[0m\n\u001b[1;32m      6\u001b[0m \u001b[0mprint\u001b[0m\u001b[0;34m(\u001b[0m\u001b[0mimmigration_df\u001b[0m\u001b[0;34m.\u001b[0m\u001b[0mhead\u001b[0m\u001b[0;34m(\u001b[0m\u001b[0;36m10\u001b[0m\u001b[0;34m)\u001b[0m\u001b[0;34m)\u001b[0m\u001b[0;34m\u001b[0m\u001b[0;34m\u001b[0m\u001b[0m\n\u001b[1;32m      7\u001b[0m \u001b[0;34m\u001b[0m\u001b[0m\n\u001b[0;32m----> 8\u001b[0;31m \u001b[0minternational_data_preprocessing\u001b[0m\u001b[0;34m.\u001b[0m\u001b[0minternational_data_preprocessing\u001b[0m\u001b[0;34m.\u001b[0m\u001b[0madjust_per_capita\u001b[0m\u001b[0;34m(\u001b[0m\u001b[0mimmigration_df\u001b[0m\u001b[0;34m,\u001b[0m \u001b[0;34m'immigrationPopulation'\u001b[0m\u001b[0;34m,\u001b[0m \u001b[0;34m'originCountry'\u001b[0m\u001b[0;34m,\u001b[0m \u001b[0;34m'year'\u001b[0m\u001b[0;34m)\u001b[0m\u001b[0;34m\u001b[0m\u001b[0;34m\u001b[0m\u001b[0m\n\u001b[0m\u001b[1;32m      9\u001b[0m \u001b[0;34m\u001b[0m\u001b[0m\n\u001b[1;32m     10\u001b[0m \u001b[0mprint\u001b[0m\u001b[0;34m(\u001b[0m\u001b[0mimmigrationData\u001b[0m\u001b[0;34m.\u001b[0m\u001b[0mhead\u001b[0m\u001b[0;34m(\u001b[0m\u001b[0;36m10\u001b[0m\u001b[0;34m)\u001b[0m\u001b[0;34m)\u001b[0m\u001b[0;34m\u001b[0m\u001b[0;34m\u001b[0m\u001b[0m\n",
      "\u001b[0;31mAttributeError\u001b[0m: module 'international_data_preprocessing' has no attribute 'international_data_preprocessing'"
     ]
    }
   ],
   "source": [
    "import pandas as pd\n",
    "from international_data_preprocessing import adjust_per_capita\n",
    "\n",
    "immigration_df = pd.read_csv('ExampleCSVImmigration.csv')\n",
    "\n",
    "print(immigration_df.head(10))\n",
    "\n",
    "adjust_per_capita(immigration_df, 'immigrationPopulation', 'originCountry', 'year')\n",
    "\n",
    "print(immigrationData.head(10))\n"
   ]
  },
  {
   "cell_type": "code",
   "execution_count": 9,
   "metadata": {
    "colab": {
     "base_uri": "https://localhost:8080/",
     "height": 235
    },
    "id": "Xt_NzZNlmCY7",
    "outputId": "f3ee3499-611c-46c9-9f4d-b4338a608dbd"
   },
   "outputs": [
    {
     "ename": "NameError",
     "evalue": "name 'immigrationData' is not defined",
     "output_type": "error",
     "traceback": [
      "\u001b[0;31m---------------------------------------------------------------------------\u001b[0m",
      "\u001b[0;31mNameError\u001b[0m                                 Traceback (most recent call last)",
      "\u001b[0;32m/var/folders/hb/q2pbpx4569vf8cppghz7cg4h0000gn/T/ipykernel_39344/3009999288.py\u001b[0m in \u001b[0;36m<module>\u001b[0;34m\u001b[0m\n\u001b[1;32m      6\u001b[0m \u001b[0mtuitionData\u001b[0m \u001b[0;34m=\u001b[0m \u001b[0mpd\u001b[0m\u001b[0;34m.\u001b[0m\u001b[0mread_csv\u001b[0m\u001b[0;34m(\u001b[0m\u001b[0murl\u001b[0m\u001b[0;34m,\u001b[0m \u001b[0mindex_col\u001b[0m\u001b[0;34m=\u001b[0m\u001b[0;36m0\u001b[0m\u001b[0;34m)\u001b[0m\u001b[0;34m\u001b[0m\u001b[0;34m\u001b[0m\u001b[0m\n\u001b[1;32m      7\u001b[0m \u001b[0;34m\u001b[0m\u001b[0m\n\u001b[0;32m----> 8\u001b[0;31m \u001b[0mprint\u001b[0m\u001b[0;34m(\u001b[0m\u001b[0mimmigrationData\u001b[0m\u001b[0;34m.\u001b[0m\u001b[0mhead\u001b[0m\u001b[0;34m(\u001b[0m\u001b[0;36m10\u001b[0m\u001b[0;34m)\u001b[0m\u001b[0;34m)\u001b[0m\u001b[0;34m\u001b[0m\u001b[0;34m\u001b[0m\u001b[0m\n\u001b[0m\u001b[1;32m      9\u001b[0m \u001b[0;34m\u001b[0m\u001b[0m\n\u001b[1;32m     10\u001b[0m adjust_for_inflation(tuitionData, tuitionLowerEstimate, tuitionUpperEstimate, year,\n",
      "\u001b[0;31mNameError\u001b[0m: name 'immigrationData' is not defined"
     ]
    }
   ],
   "source": [
    "#Example Inflation Adjustment\n",
    "\n",
    "import pandas as pd \n",
    "\n",
    "url = 'https://raw.githubusercontent.com/emcarlson2017/international-data-preprocessing/main/examples/ExampleCSVTuition.csv'\n",
    "tuitionData = pd.read_csv(url, index_col=0)\n",
    "\n",
    "print(immigrationData.head(10))\n",
    "\n",
    "adjust_for_inflation(tuitionData, tuitionLowerEstimate, tuitionUpperEstimate, year,\n",
    "                     adjustToYear, in_place = True)\n",
    "\n",
    "adjust_for_inflation(tuitionData, tuitionUpperEstimate, tuitionUpperEstimate, year,\n",
    "                     adjustToYear, in_place = True)\n",
    "\n",
    "print(tuitionData.head(10))\n"
   ]
  },
  {
   "cell_type": "code",
   "execution_count": 56,
   "metadata": {
    "colab": {
     "base_uri": "https://localhost:8080/",
     "height": 235
    },
    "id": "pnR7DUZjovEf",
    "outputId": "6fd31376-9824-4908-91d2-0727f87bb72c"
   },
   "outputs": [
    {
     "ename": "NameError",
     "evalue": "ignored",
     "output_type": "error",
     "traceback": [
      "\u001b[0;31m---------------------------------------------------------------------------\u001b[0m",
      "\u001b[0;31mNameError\u001b[0m                                 Traceback (most recent call last)",
      "\u001b[0;32m<ipython-input-56-2ab56ab58f94>\u001b[0m in \u001b[0;36m<module>\u001b[0;34m()\u001b[0m\n\u001b[1;32m      6\u001b[0m \u001b[0mtuitionData\u001b[0m \u001b[0;34m=\u001b[0m \u001b[0mpd\u001b[0m\u001b[0;34m.\u001b[0m\u001b[0mread_csv\u001b[0m\u001b[0;34m(\u001b[0m\u001b[0murl\u001b[0m\u001b[0;34m,\u001b[0m \u001b[0mindex_col\u001b[0m\u001b[0;34m=\u001b[0m\u001b[0;36m0\u001b[0m\u001b[0;34m)\u001b[0m\u001b[0;34m\u001b[0m\u001b[0;34m\u001b[0m\u001b[0m\n\u001b[1;32m      7\u001b[0m \u001b[0;34m\u001b[0m\u001b[0m\n\u001b[0;32m----> 8\u001b[0;31m \u001b[0mprint\u001b[0m\u001b[0;34m(\u001b[0m\u001b[0mimmigrationData\u001b[0m\u001b[0;34m.\u001b[0m\u001b[0mhead\u001b[0m\u001b[0;34m(\u001b[0m\u001b[0;36m10\u001b[0m\u001b[0;34m)\u001b[0m\u001b[0;34m)\u001b[0m\u001b[0;34m\u001b[0m\u001b[0;34m\u001b[0m\u001b[0m\n\u001b[0m\u001b[1;32m      9\u001b[0m \u001b[0;34m\u001b[0m\u001b[0m\n\u001b[1;32m     10\u001b[0m convert_currency(tuitionData, tuitionLowerEstimate, currencyCountry, country, year,\n",
      "\u001b[0;31mNameError\u001b[0m: name 'immigrationData' is not defined"
     ]
    }
   ],
   "source": [
    "#Example Exchange Rate \n",
    "import \n",
    "import pandas as pd \n",
    "\n",
    "url = 'https://raw.githubusercontent.com/emcarlson2017/international-data-preprocessing/main/examples/ExampleCSVTuition.csv'\n",
    "tuitionData = pd.read_csv(url, index_col=0)\n",
    "\n",
    "print(tuitionData.head(10))\n",
    "\n",
    "convert_currency(tuitionData, tuitionLowerEstimate, currencyCountry, country, year,\n",
    "                 in_place=True, new_col_name=None)\n",
    "\n",
    "convert_currency(tuitionData, tuitionUpperEstimate, currencyCountry, country, year,\n",
    "                 in_place=True, new_col_name=None)\n",
    "\n",
    "print(tuitionData.head(10))\n"
   ]
  }
 ],
 "metadata": {
  "colab": {
   "authorship_tag": "ABX9TyNrz/gQmm84nmUnuKMm3F5E",
   "include_colab_link": true,
   "name": "CSE515Project.ipynb",
   "provenance": []
  },
  "kernelspec": {
   "display_name": "Python 3 (ipykernel)",
   "language": "python",
   "name": "python3"
  },
  "language_info": {
   "codemirror_mode": {
    "name": "ipython",
    "version": 3
   },
   "file_extension": ".py",
   "mimetype": "text/x-python",
   "name": "python",
   "nbconvert_exporter": "python",
   "pygments_lexer": "ipython3",
   "version": "3.8.8"
  }
 },
 "nbformat": 4,
 "nbformat_minor": 1
}
