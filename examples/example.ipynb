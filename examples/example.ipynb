{
 "cells": [
  {
   "cell_type": "markdown",
   "metadata": {},
   "source": [
    "# International Data Preprocessing Examples \n",
    "\n",
    "### Introduction \n",
    "\n",
    "The goal of this Python package is to be a lightweight and integratable solution for international data preprocessing. This set of examples demonstrates three instances in which the main functions of this package are utilized to conduct data preprocessing. The datasets in these examples are curated \"miniature\" datasets centered on international metrics. Each example accomplishes a specified goal detailed in each section below. \n",
    "\n",
    "### Example 1: Per Capita Calculation\n",
    "\n",
    "This primary example utilizes a data frame which focuses on immigration metrics. Each row represents the number of immigrants from a given country travelling to the United states in the year 2021. This data is read in from csv format to a pandas dataframe. A preview of the data is included as well. Before preprocessing can begin, we must prepare the dataframe for function input. This is the parse step of the function execution. In this example, the function parse_countries parses the origin and destination country's names into the standard alpha 3 codes. This allows the country columns to be read in by the adjust_per_capita function with its expected input. Finally, we are able to execute the adjust_per_capita function, which takes in the numeric value (immigrant population), country population value (origin country), and population year (year of immigration). This input allows the function to adjust the immigrant population column to be represented as immigrants per capita of the origin country. "
   ]
  },
  {
   "cell_type": "code",
   "execution_count": 1,
   "metadata": {
    "colab": {
     "base_uri": "https://localhost:8080/",
     "height": 322
    },
    "id": "JxaLh31h1Aca",
    "outputId": "56454c03-6a6b-46b8-dd61-f543863c8776"
   },
   "outputs": [
    {
     "name": "stdout",
     "output_type": "stream",
     "text": [
      "  originCountry destinationCountry  immigrantPopulation  year\n",
      "0         India      United States              2652853  2021\n",
      "1         China      United States              2221943  2021\n",
      "2        Brazil      United States               472637  2021\n",
      "3     Indonesia      United States                94079  2021\n",
      "  originCountry destinationCountry  immigrantPopulation  year\n",
      "0           IND                USA              2652853  2021\n",
      "1           CHN                USA              2221943  2021\n",
      "2           BRA                USA               472637  2021\n",
      "3           IDN                USA                94079  2021\n",
      "  originCountry destinationCountry  immigrantPopulation  year\n",
      "0           IND                USA             0.001904  2021\n",
      "1           CHN                USA             0.001576  2021\n",
      "2           BRA                USA             0.002209  2021\n",
      "3           IDN                USA             0.000341  2021\n"
     ]
    }
   ],
   "source": [
    "import pandas as pd\n",
    "from international_data_preprocessing import parse_countries, adjust_per_capita #package import \n",
    "\n",
    "immigration_df = pd.read_csv('ExampleCSVImmigration.csv') #read in csv to pandas dataframe\n",
    "print(immigration_df.head(10))\n",
    "\n",
    "parse_countries(immigration_df, 'originCountry', ['alpha3']) #parse country name to alpha 3 code\n",
    "parse_countries(immigration_df, 'destinationCountry', ['alpha3']) #parse country name to alpha 3 code\n",
    "print(immigration_df.head(10))\n",
    "\n",
    "adjust_per_capita(immigration_df, 'immigrantPopulation', 'originCountry', 'year') #run per-capita function\n",
    "print(immigration_df.head(10))"
   ]
  },
  {
   "cell_type": "markdown",
   "metadata": {},
   "source": [
    "### Example 2: Inflation Adjustment\n",
    "\n",
    "This next example uses a dataframe centered on international tuition rates. Each row contains data concerning the country, lower end tuition estimate, upper end tuition estimate, year, and currency of the tuition metrics. This dataset is read in from csv format to a pandas dataframe. A preview of this data is also shown below. Similar to example 1, we must first parse some data columns before preprocessing the data. As this example adjusts for inflation, the parsing step aligns with the associated function's required inputs. For the adjust_for_inflation function, the standard three letter currency code must be passed in. Therefore, we must parse the currency country column to the standard code for that country's currency. For example, currency country goes from 'USA' to 'USD.' Once this step has been taken, we can now run the adjust_for_inflation function. This function takes the input of the currency numeric value (tuition lower estimate/tuition upper estimate), country, original year, and the final adjustment year. This function then adjusts these numeric tuition values for inflation from the year 2020 to the year 2021. The final data frame is shown below. "
   ]
  },
  {
   "cell_type": "code",
   "execution_count": 2,
   "metadata": {
    "colab": {
     "base_uri": "https://localhost:8080/",
     "height": 235
    },
    "id": "Xt_NzZNlmCY7",
    "outputId": "f3ee3499-611c-46c9-9f4d-b4338a608dbd"
   },
   "outputs": [
    {
     "name": "stdout",
     "output_type": "stream",
     "text": [
      "  currencyCountry country  tuitionLowerEstimate  tuitionUpperEstimate  year  \\\n",
      "0             USA     BRA                     0                 15000  2020   \n",
      "1             USA     CHN                  4700                 46000  2020   \n",
      "2             USA     IND                   350                  5500  2020   \n",
      "3             USA     USA                 20770                 46950  2020   \n",
      "\n",
      "   adjustToYear  \n",
      "0          2021  \n",
      "1          2021  \n",
      "2          2021  \n",
      "3          2021  \n",
      "  currencyCountry country  tuitionLowerEstimate  tuitionUpperEstimate  year  \\\n",
      "0             USA     BRA                     0                 15000  2020   \n",
      "1             USA     CHN                  4700                 46000  2020   \n",
      "2             USA     IND                   350                  5500  2020   \n",
      "3             USA     USA                 20770                 46950  2020   \n",
      "\n",
      "   adjustToYear currency  \n",
      "0          2021      USD  \n",
      "1          2021      USD  \n",
      "2          2021      USD  \n",
      "3          2021      USD  \n",
      "  currencyCountry country  tuitionLowerEstimate  tuitionUpperEstimate  year  \\\n",
      "0             USA     BRA              0.000000          15432.098765  2020   \n",
      "1             USA     CHN           4742.684157          46417.759839  2020   \n",
      "2             USA     IND            368.809273           5795.574289  2020   \n",
      "3             USA     USA          21172.273191          47859.327217  2020   \n",
      "\n",
      "   adjustToYear currency  \n",
      "0          2021      USD  \n",
      "1          2021      USD  \n",
      "2          2021      USD  \n",
      "3          2021      USD  \n"
     ]
    }
   ],
   "source": [
    "from international_data_preprocessing import country_to_primary_currency, adjust_for_inflation #import package\n",
    "\n",
    "tuition_df = pd.read_csv('ExampleCSVTuition.csv') #read in data frame\n",
    "print(tuition_df.head(10))\n",
    "\n",
    "country_to_primary_currency(tuition_df, 'currencyCountry', output_col_name='currency', in_place=False) #parse currency country to currency code\n",
    "print(tuition_df.head(10))\n",
    "\n",
    "adjust_for_inflation(tuition_df, 'tuitionLowerEstimate', 'country', 'year', 'adjustToYear')\n",
    "adjust_for_inflation(tuition_df, 'tuitionUpperEstimate', 'country', 'year', 'adjustToYear')\n",
    "print(tuition_df.head(10))"
   ]
  },
  {
   "cell_type": "markdown",
   "metadata": {},
   "source": [
    "### Example 3: Currency Exchange Adjustment\n",
    "\n",
    "This final example utilizes the same data frame as example 2. Once this data frame has been adjusted for inflation, it would now be most helpful to represent the numeric currency values in each country's local currency. An additional parsing step is needed in order to adjust the country's standard alpha 3 code to that country's standard currency code. This will allow the function to understand which exchange rate to use. Once this parsing step is taken, the convert_currency function can now be executed. In this case, this function takes in the monetary value column (tuition lower estimate/tuition upper estimate), current currency (currency), currency to exchange (local currency), and year. This will allow the function to exchange the tuition estimates in US dollars to the currency of the country associated with each metric. The final data frame is shown below. "
   ]
  },
  {
   "cell_type": "code",
   "execution_count": 3,
   "metadata": {
    "colab": {
     "base_uri": "https://localhost:8080/",
     "height": 235
    },
    "id": "pnR7DUZjovEf",
    "outputId": "6fd31376-9824-4908-91d2-0727f87bb72c"
   },
   "outputs": [
    {
     "name": "stdout",
     "output_type": "stream",
     "text": [
      "  currencyCountry country  tuitionLowerEstimate  tuitionUpperEstimate  year  \\\n",
      "0             USA     BRA              0.000000          15432.098765  2020   \n",
      "1             USA     CHN           4742.684157          46417.759839  2020   \n",
      "2             USA     IND            368.809273           5795.574289  2020   \n",
      "3             USA     USA          21172.273191          47859.327217  2020   \n",
      "\n",
      "   adjustToYear currency localCurrency  localTuitionLowerEstimate  \\\n",
      "0          2021      USD           BRL                   0.000000   \n",
      "1          2021      USD           CNY               29926.337033   \n",
      "2          2021      USD           INR               28416.754478   \n",
      "3          2021      USD           USD               21172.273191   \n",
      "\n",
      "   localTuitionUpperEstimate  \n",
      "0               78858.024691  \n",
      "1              292896.064581  \n",
      "2              446548.998946  \n",
      "3               47859.327217  \n"
     ]
    }
   ],
   "source": [
    "from international_data_preprocessing import convert_currency\n",
    "\n",
    "country_to_primary_currency(tuition_df, 'country', output_col_name='localCurrency', in_place=False) #parse country to associated currency\n",
    "\n",
    "convert_currency(tuition_df, 'tuitionLowerEstimate', 'currency', 'localCurrency', 'adjustToYear', in_place=False, new_col_name='localTuitionLowerEstimate') #adjust for exchange rate \n",
    "convert_currency(tuition_df, 'tuitionUpperEstimate', 'currency', 'localCurrency', 'adjustToYear', in_place=False, new_col_name='localTuitionUpperEstimate')\n",
    "print(tuition_df.head(10))\n"
   ]
  }
 ],
 "metadata": {
  "colab": {
   "authorship_tag": "ABX9TyNrz/gQmm84nmUnuKMm3F5E",
   "include_colab_link": true,
   "name": "CSE515Project.ipynb",
   "provenance": []
  },
  "kernelspec": {
   "display_name": "Python 3 (ipykernel)",
   "language": "python",
   "name": "python3"
  },
  "language_info": {
   "codemirror_mode": {
    "name": "ipython",
    "version": 3
   },
   "file_extension": ".py",
   "mimetype": "text/x-python",
   "name": "python",
   "nbconvert_exporter": "python",
   "pygments_lexer": "ipython3",
   "version": "3.8.8"
  }
 },
 "nbformat": 4,
 "nbformat_minor": 1
}
