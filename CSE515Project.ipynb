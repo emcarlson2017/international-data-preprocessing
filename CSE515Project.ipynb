{
  "nbformat": 4,
  "nbformat_minor": 0,
  "metadata": {
    "colab": {
      "name": "CSE515Project.ipynb",
      "provenance": [],
      "authorship_tag": "ABX9TyNrz/gQmm84nmUnuKMm3F5E",
      "include_colab_link": true
    },
    "kernelspec": {
      "name": "python3",
      "display_name": "Python 3"
    },
    "language_info": {
      "name": "python"
    }
  },
  "cells": [
    {
      "cell_type": "markdown",
      "metadata": {
        "id": "view-in-github",
        "colab_type": "text"
      },
      "source": [
        "<a href=\"https://colab.research.google.com/github/emcarlson2017/international-data-preprocessing/blob/main/CSE515Project.ipynb\" target=\"_parent\"><img src=\"https://colab.research.google.com/assets/colab-badge.svg\" alt=\"Open In Colab\"/></a>"
      ]
    },
    {
      "cell_type": "code",
      "execution_count": 58,
      "metadata": {
        "id": "JxaLh31h1Aca",
        "colab": {
          "base_uri": "https://localhost:8080/",
          "height": 322
        },
        "outputId": "56454c03-6a6b-46b8-dd61-f543863c8776"
      },
      "outputs": [
        {
          "output_type": "stream",
          "name": "stdout",
          "text": [
            "              destinationCountry  immigrantPopulation  year\n",
            "originCountry                                              \n",
            "India              United States              2652853  2021\n",
            "China              United States              2221943  2021\n",
            "Brazil             United States               472637  2021\n",
            "Indonesia          United States                94079  2021\n"
          ]
        },
        {
          "output_type": "error",
          "ename": "NameError",
          "evalue": "ignored",
          "traceback": [
            "\u001b[0;31m---------------------------------------------------------------------------\u001b[0m",
            "\u001b[0;31mNameError\u001b[0m                                 Traceback (most recent call last)",
            "\u001b[0;32m<ipython-input-58-d23451d7d23e>\u001b[0m in \u001b[0;36m<module>\u001b[0;34m()\u001b[0m\n\u001b[1;32m      9\u001b[0m \u001b[0mprint\u001b[0m\u001b[0;34m(\u001b[0m\u001b[0mimmigrationData\u001b[0m\u001b[0;34m.\u001b[0m\u001b[0mhead\u001b[0m\u001b[0;34m(\u001b[0m\u001b[0;36m10\u001b[0m\u001b[0;34m)\u001b[0m\u001b[0;34m)\u001b[0m\u001b[0;34m\u001b[0m\u001b[0;34m\u001b[0m\u001b[0m\n\u001b[1;32m     10\u001b[0m \u001b[0;34m\u001b[0m\u001b[0m\n\u001b[0;32m---> 11\u001b[0;31m adjust_per_capita(immigrationData, immigrationPopulation, originCountry, year,\n\u001b[0m\u001b[1;32m     12\u001b[0m                   in_place = True)\n",
            "\u001b[0;31mNameError\u001b[0m: name 'adjust_per_capita' is not defined"
          ]
        }
      ],
      "source": [
        "# Examples Per Capita Calculation\n",
        "\n",
        "import csv\n",
        "import pandas as pd\n",
        "\n",
        "url = 'https://raw.githubusercontent.com/emcarlson2017/international-data-preprocessing/main/examples/ExampleCSVImmigration.csv'\n",
        "immigrationData = pd.read_csv(url, index_col=0)\n",
        "\n",
        "print(immigrationData.head(10))\n",
        "\n",
        "adjust_per_capita(immigrationData, immigrationPopulation, originCountry, year,\n",
        "                  in_place = True)\n",
        "\n",
        "print(immigrationData.head(10))\n"
      ]
    },
    {
      "cell_type": "code",
      "source": [
        "#Example Inflation Adjustment\n",
        "\n",
        "import pandas as pd \n",
        "\n",
        "url = 'https://raw.githubusercontent.com/emcarlson2017/international-data-preprocessing/main/examples/ExampleCSVTuition.csv'\n",
        "tuitionData = pd.read_csv(url, index_col=0)\n",
        "\n",
        "print(immigrationData.head(10))\n",
        "\n",
        "adjust_for_inflation(tuitionData, tuitionLowerEstimate, tuitionUpperEstimate, year,\n",
        "                     adjustToYear, in_place = True)\n",
        "\n",
        "adjust_for_inflation(tuitionData, tuitionUpperEstimate, tuitionUpperEstimate, year,\n",
        "                     adjustToYear, in_place = True)\n",
        "\n",
        "print(tuitionData.head(10))\n"
      ],
      "metadata": {
        "colab": {
          "base_uri": "https://localhost:8080/",
          "height": 235
        },
        "id": "Xt_NzZNlmCY7",
        "outputId": "f3ee3499-611c-46c9-9f4d-b4338a608dbd"
      },
      "execution_count": 57,
      "outputs": [
        {
          "output_type": "error",
          "ename": "NameError",
          "evalue": "ignored",
          "traceback": [
            "\u001b[0;31m---------------------------------------------------------------------------\u001b[0m",
            "\u001b[0;31mNameError\u001b[0m                                 Traceback (most recent call last)",
            "\u001b[0;32m<ipython-input-57-289beb2e592d>\u001b[0m in \u001b[0;36m<module>\u001b[0;34m()\u001b[0m\n\u001b[1;32m      6\u001b[0m \u001b[0mtuitionData\u001b[0m \u001b[0;34m=\u001b[0m \u001b[0mpd\u001b[0m\u001b[0;34m.\u001b[0m\u001b[0mread_csv\u001b[0m\u001b[0;34m(\u001b[0m\u001b[0murl\u001b[0m\u001b[0;34m,\u001b[0m \u001b[0mindex_col\u001b[0m\u001b[0;34m=\u001b[0m\u001b[0;36m0\u001b[0m\u001b[0;34m)\u001b[0m\u001b[0;34m\u001b[0m\u001b[0;34m\u001b[0m\u001b[0m\n\u001b[1;32m      7\u001b[0m \u001b[0;34m\u001b[0m\u001b[0m\n\u001b[0;32m----> 8\u001b[0;31m \u001b[0mprint\u001b[0m\u001b[0;34m(\u001b[0m\u001b[0mimmigrationData\u001b[0m\u001b[0;34m.\u001b[0m\u001b[0mhead\u001b[0m\u001b[0;34m(\u001b[0m\u001b[0;36m10\u001b[0m\u001b[0;34m)\u001b[0m\u001b[0;34m)\u001b[0m\u001b[0;34m\u001b[0m\u001b[0;34m\u001b[0m\u001b[0m\n\u001b[0m\u001b[1;32m      9\u001b[0m \u001b[0;34m\u001b[0m\u001b[0m\n\u001b[1;32m     10\u001b[0m adjust_for_inflation(tuitionData, tuitionLowerEstimate, tuitionUpperEstimate, year,\n",
            "\u001b[0;31mNameError\u001b[0m: name 'immigrationData' is not defined"
          ]
        }
      ]
    },
    {
      "cell_type": "code",
      "source": [
        "#Example Exchange Rate \n",
        "import \n",
        "import pandas as pd \n",
        "\n",
        "url = 'https://raw.githubusercontent.com/emcarlson2017/international-data-preprocessing/main/examples/ExampleCSVTuition.csv'\n",
        "tuitionData = pd.read_csv(url, index_col=0)\n",
        "\n",
        "print(tuitionData.head(10))\n",
        "\n",
        "convert_currency(tuitionData, tuitionLowerEstimate, currencyCountry, country, year,\n",
        "                 in_place=True, new_col_name=None)\n",
        "\n",
        "convert_currency(tuitionData, tuitionUpperEstimate, currencyCountry, country, year,\n",
        "                 in_place=True, new_col_name=None)\n",
        "\n",
        "print(tuitionData.head(10))\n"
      ],
      "metadata": {
        "colab": {
          "base_uri": "https://localhost:8080/",
          "height": 235
        },
        "id": "pnR7DUZjovEf",
        "outputId": "6fd31376-9824-4908-91d2-0727f87bb72c"
      },
      "execution_count": 56,
      "outputs": [
        {
          "output_type": "error",
          "ename": "NameError",
          "evalue": "ignored",
          "traceback": [
            "\u001b[0;31m---------------------------------------------------------------------------\u001b[0m",
            "\u001b[0;31mNameError\u001b[0m                                 Traceback (most recent call last)",
            "\u001b[0;32m<ipython-input-56-2ab56ab58f94>\u001b[0m in \u001b[0;36m<module>\u001b[0;34m()\u001b[0m\n\u001b[1;32m      6\u001b[0m \u001b[0mtuitionData\u001b[0m \u001b[0;34m=\u001b[0m \u001b[0mpd\u001b[0m\u001b[0;34m.\u001b[0m\u001b[0mread_csv\u001b[0m\u001b[0;34m(\u001b[0m\u001b[0murl\u001b[0m\u001b[0;34m,\u001b[0m \u001b[0mindex_col\u001b[0m\u001b[0;34m=\u001b[0m\u001b[0;36m0\u001b[0m\u001b[0;34m)\u001b[0m\u001b[0;34m\u001b[0m\u001b[0;34m\u001b[0m\u001b[0m\n\u001b[1;32m      7\u001b[0m \u001b[0;34m\u001b[0m\u001b[0m\n\u001b[0;32m----> 8\u001b[0;31m \u001b[0mprint\u001b[0m\u001b[0;34m(\u001b[0m\u001b[0mimmigrationData\u001b[0m\u001b[0;34m.\u001b[0m\u001b[0mhead\u001b[0m\u001b[0;34m(\u001b[0m\u001b[0;36m10\u001b[0m\u001b[0;34m)\u001b[0m\u001b[0;34m)\u001b[0m\u001b[0;34m\u001b[0m\u001b[0;34m\u001b[0m\u001b[0m\n\u001b[0m\u001b[1;32m      9\u001b[0m \u001b[0;34m\u001b[0m\u001b[0m\n\u001b[1;32m     10\u001b[0m convert_currency(tuitionData, tuitionLowerEstimate, currencyCountry, country, year,\n",
            "\u001b[0;31mNameError\u001b[0m: name 'immigrationData' is not defined"
          ]
        }
      ]
    }
  ]
}