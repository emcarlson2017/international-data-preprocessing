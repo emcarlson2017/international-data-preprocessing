{
 "cells": [
  {
   "cell_type": "code",
   "execution_count": 4,
   "metadata": {
    "colab": {
     "base_uri": "https://localhost:8080/",
     "height": 322
    },
    "id": "JxaLh31h1Aca",
    "outputId": "56454c03-6a6b-46b8-dd61-f543863c8776"
   },
   "outputs": [
    {
     "name": "stdout",
     "output_type": "stream",
     "text": [
      "  originCountry destinationCountry  immigrantPopulation  year\n",
      "0         India      United States              2652853  2021\n",
      "1         China      United States              2221943  2021\n",
      "2        Brazil      United States               472637  2021\n",
      "3     Indonesia      United States                94079  2021\n",
      "  originCountry destinationCountry  immigrantPopulation  year\n",
      "0           IND                USA              2652853  2021\n",
      "1           CHN                USA              2221943  2021\n",
      "2           BRA                USA               472637  2021\n",
      "3           IDN                USA                94079  2021\n",
      "  originCountry destinationCountry  immigrantPopulation  year\n",
      "0           IND                USA             0.001904  2021\n",
      "1           CHN                USA             0.001576  2021\n",
      "2           BRA                USA             0.002209  2021\n",
      "3           IDN                USA             0.000341  2021\n"
     ]
    }
   ],
   "source": [
    "import pandas as pd\n",
    "from international_data_preprocessing import parse_countries, adjust_per_capita\n",
    "\n",
    "immigration_df = pd.read_csv('ExampleCSVImmigration.csv')\n",
    "print(immigration_df.head(10))\n",
    "\n",
    "parse_countries(immigration_df, 'originCountry', ['alpha3'])\n",
    "parse_countries(immigration_df, 'destinationCountry', ['alpha3'])\n",
    "print(immigration_df.head(10))\n",
    "\n",
    "adjust_per_capita(immigration_df, 'immigrantPopulation', 'originCountry', 'year')\n",
    "print(immigration_df.head(10))"
   ]
  },
  {
   "cell_type": "code",
   "execution_count": 5,
   "metadata": {
    "colab": {
     "base_uri": "https://localhost:8080/",
     "height": 235
    },
    "id": "Xt_NzZNlmCY7",
    "outputId": "f3ee3499-611c-46c9-9f4d-b4338a608dbd"
   },
   "outputs": [
    {
     "name": "stdout",
     "output_type": "stream",
     "text": [
      "  currencyCountry country  tuitionLowerEstimate  tuitionUpperEstimate  year  \\\n",
      "0             USA     BRA                     0                 15000  2020   \n",
      "1             USA     CHN                  4700                 46000  2020   \n",
      "2             USA     IND                   350                  5500  2020   \n",
      "3             USA     USA                 20770                 46950  2020   \n",
      "\n",
      "   adjustToYear  \n",
      "0          2021  \n",
      "1          2021  \n",
      "2          2021  \n",
      "3          2021  \n",
      "  currencyCountry country  tuitionLowerEstimate  tuitionUpperEstimate  year  \\\n",
      "0             USA     BRA                     0                 15000  2020   \n",
      "1             USA     CHN                  4700                 46000  2020   \n",
      "2             USA     IND                   350                  5500  2020   \n",
      "3             USA     USA                 20770                 46950  2020   \n",
      "\n",
      "   adjustToYear currency  \n",
      "0          2021      USD  \n",
      "1          2021      USD  \n",
      "2          2021      USD  \n",
      "3          2021      USD  \n",
      "  currencyCountry country  tuitionLowerEstimate  tuitionUpperEstimate  year  \\\n",
      "0             USA     BRA              0.000000          15432.098765  2020   \n",
      "1             USA     CHN           4742.684157          46417.759839  2020   \n",
      "2             USA     IND            368.809273           5795.574289  2020   \n",
      "3             USA     USA          21172.273191          47859.327217  2020   \n",
      "\n",
      "   adjustToYear currency  \n",
      "0          2021      USD  \n",
      "1          2021      USD  \n",
      "2          2021      USD  \n",
      "3          2021      USD  \n"
     ]
    }
   ],
   "source": [
    "from international_data_preprocessing import country_to_primary_currency, adjust_for_inflation\n",
    "\n",
    "tuition_df = pd.read_csv('ExampleCSVTuition.csv')\n",
    "print(tuition_df.head(10))\n",
    "\n",
    "country_to_primary_currency(tuition_df, 'currencyCountry', output_col_name='currency', in_place=False)\n",
    "print(tuition_df.head(10))\n",
    "\n",
    "adjust_for_inflation(tuition_df, 'tuitionLowerEstimate', 'country', 'year', 'adjustToYear')\n",
    "adjust_for_inflation(tuition_df, 'tuitionUpperEstimate', 'country', 'year', 'adjustToYear')\n",
    "print(tuition_df.head(10))"
   ]
  },
  {
   "cell_type": "code",
   "execution_count": 6,
   "metadata": {
    "colab": {
     "base_uri": "https://localhost:8080/",
     "height": 235
    },
    "id": "pnR7DUZjovEf",
    "outputId": "6fd31376-9824-4908-91d2-0727f87bb72c"
   },
   "outputs": [
    {
     "name": "stdout",
     "output_type": "stream",
     "text": [
      "  currencyCountry country  tuitionLowerEstimate  tuitionUpperEstimate  year  \\\n",
      "0             USA     BRA              0.000000          15432.098765  2020   \n",
      "1             USA     CHN           4742.684157          46417.759839  2020   \n",
      "2             USA     IND            368.809273           5795.574289  2020   \n",
      "3             USA     USA          21172.273191          47859.327217  2020   \n",
      "\n",
      "   adjustToYear currency localCurrency  localTuitionLowerEstimate  \\\n",
      "0          2021      USD           BRL                   0.000000   \n",
      "1          2021      USD           CNY               29926.337033   \n",
      "2          2021      USD           INR               28416.754478   \n",
      "3          2021      USD           USD               21172.273191   \n",
      "\n",
      "   localTuitionUpperEstimate  \n",
      "0               78858.024691  \n",
      "1              292896.064581  \n",
      "2              446548.998946  \n",
      "3               47859.327217  \n"
     ]
    }
   ],
   "source": [
    "from international_data_preprocessing import convert_currency\n",
    "\n",
    "country_to_primary_currency(tuition_df, 'country', output_col_name='localCurrency', in_place=False)\n",
    "convert_currency(tuition_df, 'tuitionLowerEstimate', 'currency', 'localCurrency', 'adjustToYear', in_place=False, new_col_name='localTuitionLowerEstimate')\n",
    "convert_currency(tuition_df, 'tuitionUpperEstimate', 'currency', 'localCurrency', 'adjustToYear', in_place=False, new_col_name='localTuitionUpperEstimate')\n",
    "print(tuition_df.head(10))\n"
   ]
  }
 ],
 "metadata": {
  "colab": {
   "authorship_tag": "ABX9TyNrz/gQmm84nmUnuKMm3F5E",
   "include_colab_link": true,
   "name": "CSE515Project.ipynb",
   "provenance": []
  },
  "kernelspec": {
   "display_name": "Python 3 (ipykernel)",
   "language": "python",
   "name": "python3"
  },
  "language_info": {
   "codemirror_mode": {
    "name": "ipython",
    "version": 3
   },
   "file_extension": ".py",
   "mimetype": "text/x-python",
   "name": "python",
   "nbconvert_exporter": "python",
   "pygments_lexer": "ipython3",
   "version": "3.8.8"
  }
 },
 "nbformat": 4,
 "nbformat_minor": 1
}
