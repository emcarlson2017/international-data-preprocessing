{
 "cells": [
  {
   "cell_type": "code",
   "execution_count": 1,
   "metadata": {
    "colab": {
     "base_uri": "https://localhost:8080/",
     "height": 322
    },
    "id": "JxaLh31h1Aca",
    "outputId": "56454c03-6a6b-46b8-dd61-f543863c8776"
   },
   "outputs": [
    {
     "name": "stdout",
     "output_type": "stream",
     "text": [
      "  originCountry destinationCountry  immigrantPopulation  year\n",
      "0         India      United States              2652853  2021\n",
      "1         China      United States              2221943  2021\n",
      "2        Brazil      United States               472637  2021\n",
      "3     Indonesia      United States                94079  2021\n",
      "  originCountry destinationCountry  immigrantPopulation  year\n",
      "0           IND                USA              2652853  2021\n",
      "1           CHN                USA              2221943  2021\n",
      "2           BRA                USA               472637  2021\n",
      "3           IDN                USA                94079  2021\n",
      "  originCountry destinationCountry  immigrantPopulation  year\n",
      "0           IND                USA             0.001904  2021\n",
      "1           CHN                USA             0.001576  2021\n",
      "2           BRA                USA             0.002209  2021\n",
      "3           IDN                USA             0.000341  2021\n"
     ]
    }
   ],
   "source": [
    "import pandas as pd\n",
    "from international_data_preprocessing import adjust_per_capita\n",
    "from international_data_preprocessing.country import parse_countries\n",
    "\n",
    "immigration_df = pd.read_csv('ExampleCSVImmigration.csv')\n",
    "print(immigration_df.head(10))\n",
    "\n",
    "parse_countries(immigration_df, 'originCountry', ['alpha3'])\n",
    "parse_countries(immigration_df, 'destinationCountry', ['alpha3'])\n",
    "print(immigration_df.head(10))\n",
    "\n",
    "adjust_per_capita(immigration_df, 'immigrantPopulation', 'originCountry', 'year')\n",
    "print(immigration_df.head(10))"
   ]
  },
  {
   "cell_type": "code",
   "execution_count": 6,
   "metadata": {
    "colab": {
     "base_uri": "https://localhost:8080/",
     "height": 235
    },
    "id": "Xt_NzZNlmCY7",
    "outputId": "f3ee3499-611c-46c9-9f4d-b4338a608dbd"
   },
   "outputs": [
    {
     "name": "stdout",
     "output_type": "stream",
     "text": [
      "  currencyCountry        country  tuitionLowerEstimate  tuitionUpperEstimate  \\\n",
      "0   United States         Brazil                     0                 15000   \n",
      "1   United States          China                  4700                 46000   \n",
      "2   United States          India                   350                  5500   \n",
      "3   United States  United States                 20770                 46950   \n",
      "\n",
      "   year  adjustToYear  \n",
      "0  2020          2021  \n",
      "1  2020          2021  \n",
      "2  2020          2021  \n",
      "3  2020          2021  \n",
      "  currencyCountry        country  tuitionLowerEstimate  tuitionUpperEstimate  \\\n",
      "0   United States         Brazil                     0                 15000   \n",
      "1   United States          China                  4700                 46000   \n",
      "2   United States          India                   350                  5500   \n",
      "3   United States  United States                 20770                 46950   \n",
      "\n",
      "   year  adjustToYear currency  \n",
      "0  2020          2021      USD  \n",
      "1  2020          2021      USD  \n",
      "2  2020          2021      USD  \n",
      "3  2020          2021      USD  \n"
     ]
    }
   ],
   "source": [
    "from international_data_preprocessing.currency import country_to_primary_currency\n",
    "\n",
    "tuition_df = pd.read_csv('ExampleCSVTuition.csv')\n",
    "print(tuition_df.head(10))\n",
    "\n",
    "country_to_primary_currency(tuition_df, 'currencyCountry', output_col_name='currency', in_place=False)\n",
    "print(tuition_df.head(10))"
   ]
  },
  {
   "cell_type": "code",
   "execution_count": 56,
   "metadata": {
    "colab": {
     "base_uri": "https://localhost:8080/",
     "height": 235
    },
    "id": "pnR7DUZjovEf",
    "outputId": "6fd31376-9824-4908-91d2-0727f87bb72c"
   },
   "outputs": [
    {
     "ename": "NameError",
     "evalue": "ignored",
     "output_type": "error",
     "traceback": [
      "\u001b[0;31m---------------------------------------------------------------------------\u001b[0m",
      "\u001b[0;31mNameError\u001b[0m                                 Traceback (most recent call last)",
      "\u001b[0;32m<ipython-input-56-2ab56ab58f94>\u001b[0m in \u001b[0;36m<module>\u001b[0;34m()\u001b[0m\n\u001b[1;32m      6\u001b[0m \u001b[0mtuitionData\u001b[0m \u001b[0;34m=\u001b[0m \u001b[0mpd\u001b[0m\u001b[0;34m.\u001b[0m\u001b[0mread_csv\u001b[0m\u001b[0;34m(\u001b[0m\u001b[0murl\u001b[0m\u001b[0;34m,\u001b[0m \u001b[0mindex_col\u001b[0m\u001b[0;34m=\u001b[0m\u001b[0;36m0\u001b[0m\u001b[0;34m)\u001b[0m\u001b[0;34m\u001b[0m\u001b[0;34m\u001b[0m\u001b[0m\n\u001b[1;32m      7\u001b[0m \u001b[0;34m\u001b[0m\u001b[0m\n\u001b[0;32m----> 8\u001b[0;31m \u001b[0mprint\u001b[0m\u001b[0;34m(\u001b[0m\u001b[0mimmigrationData\u001b[0m\u001b[0;34m.\u001b[0m\u001b[0mhead\u001b[0m\u001b[0;34m(\u001b[0m\u001b[0;36m10\u001b[0m\u001b[0;34m)\u001b[0m\u001b[0;34m)\u001b[0m\u001b[0;34m\u001b[0m\u001b[0;34m\u001b[0m\u001b[0m\n\u001b[0m\u001b[1;32m      9\u001b[0m \u001b[0;34m\u001b[0m\u001b[0m\n\u001b[1;32m     10\u001b[0m convert_currency(tuitionData, tuitionLowerEstimate, currencyCountry, country, year,\n",
      "\u001b[0;31mNameError\u001b[0m: name 'immigrationData' is not defined"
     ]
    }
   ],
   "source": [
    "#Example Exchange Rate \n",
    "import \n",
    "import pandas as pd \n",
    "\n",
    "url = 'https://raw.githubusercontent.com/emcarlson2017/international-data-preprocessing/main/examples/ExampleCSVTuition.csv'\n",
    "tuitionData = pd.read_csv(url, index_col=0)\n",
    "\n",
    "print(tuitionData.head(10))\n",
    "\n",
    "convert_currency(tuitionData, tuitionLowerEstimate, currencyCountry, country, year,\n",
    "                 in_place=True, new_col_name=None)\n",
    "\n",
    "convert_currency(tuitionData, tuitionUpperEstimate, currencyCountry, country, year,\n",
    "                 in_place=True, new_col_name=None)\n",
    "\n",
    "print(tuitionData.head(10))\n"
   ]
  }
 ],
 "metadata": {
  "colab": {
   "authorship_tag": "ABX9TyNrz/gQmm84nmUnuKMm3F5E",
   "include_colab_link": true,
   "name": "CSE515Project.ipynb",
   "provenance": []
  },
  "kernelspec": {
   "display_name": "Python 3 (ipykernel)",
   "language": "python",
   "name": "python3"
  },
  "language_info": {
   "codemirror_mode": {
    "name": "ipython",
    "version": 3
   },
   "file_extension": ".py",
   "mimetype": "text/x-python",
   "name": "python",
   "nbconvert_exporter": "python",
   "pygments_lexer": "ipython3",
   "version": "3.8.8"
  }
 },
 "nbformat": 4,
 "nbformat_minor": 1
}
